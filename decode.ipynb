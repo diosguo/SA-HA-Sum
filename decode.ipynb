{
 "cells": [
  {
   "cell_type": "code",
   "execution_count": 1,
   "metadata": {},
   "outputs": [],
   "source": [
    "from models.models import Model\n",
    "from mxnet import gpu, nd, cpu\n",
    "import pickle\n",
    "import os\n",
    "from tqdm import trange"
   ]
  },
  {
   "cell_type": "code",
   "execution_count": 2,
   "metadata": {},
   "outputs": [],
   "source": [
    "def read_pkl(path):\n",
    "    return pickle.load(open(path,'rb'))"
   ]
  },
  {
   "cell_type": "markdown",
   "metadata": {},
   "source": [
    "## 参数配置"
   ]
  },
  {
   "cell_type": "code",
   "execution_count": 3,
   "metadata": {},
   "outputs": [],
   "source": [
    "model_param = {\n",
    "    'emb_size':200,\n",
    "    'hidden_size':200\n",
    "}\n",
    "vocab_path = 'data/vocab'\n",
    "source_path = 'data/cnn_articles'\n",
    "target_path = 'data/cnn_abstracts'\n",
    "lda_path = 'data/cnn_head_lda'"
   ]
  },
  {
   "cell_type": "code",
   "execution_count": 4,
   "metadata": {},
   "outputs": [],
   "source": [
    "# __init__(self, model_param, vocab_path, mode='train', vocab_tag_path=None, encoder_type='rnn', head_attention=False, deocder_cell='lstm', ctx=cpu(0))"
   ]
  },
  {
   "cell_type": "code",
   "execution_count": 5,
   "metadata": {},
   "outputs": [],
   "source": [
    "model = Model(model_param, vocab_path, head_attention=True, decoder_cell='dlstm',ctx=cpu())"
   ]
  },
  {
   "cell_type": "code",
   "execution_count": 6,
   "metadata": {},
   "outputs": [
    {
     "name": "stderr",
     "output_type": "stream",
     "text": [
      "100%|██████████| 1093/1093 [01:41<00:00, 10.79it/s]"
     ]
    },
    {
     "name": "stdout",
     "output_type": "stream",
     "text": [
      "decode done\n"
     ]
    },
    {
     "name": "stderr",
     "output_type": "stream",
     "text": [
      "\n"
     ]
    }
   ],
   "source": [
    "res = model.decode(source_path, lda_path, 'best.model')"
   ]
  },
  {
   "cell_type": "code",
   "execution_count": 7,
   "metadata": {},
   "outputs": [
    {
     "ename": "AttributeError",
     "evalue": "'list' object has no attribute 'asscalar'",
     "output_type": "error",
     "traceback": [
      "\u001b[0;31m------------------------------------------------------------------------\u001b[0m",
      "\u001b[0;31mAttributeError\u001b[0m                         Traceback (most recent call last)",
      "\u001b[0;32m<ipython-input-7-e0201c30500a>\u001b[0m in \u001b[0;36m<module>\u001b[0;34m\u001b[0m\n\u001b[0;32m----> 1\u001b[0;31m \u001b[0mabc\u001b[0m \u001b[0;34m=\u001b[0m \u001b[0mres\u001b[0m\u001b[0;34m.\u001b[0m\u001b[0masscalar\u001b[0m\u001b[0;34m(\u001b[0m\u001b[0;34m)\u001b[0m\u001b[0;34m\u001b[0m\u001b[0;34m\u001b[0m\u001b[0m\n\u001b[0m",
      "\u001b[0;31mAttributeError\u001b[0m: 'list' object has no attribute 'asscalar'"
     ]
    }
   ],
   "source": [
    "abc = res.asscalar()"
   ]
  },
  {
   "cell_type": "code",
   "execution_count": 27,
   "metadata": {},
   "outputs": [
    {
     "name": "stdout",
     "output_type": "stream",
     "text": [
      "<start> <s> the is is the the of of of of of of of the </s> <s> <s> <s> <s> <s> <s> <s> <s> <s> </s> </s> </s> <stop> <stop> <stop> <stop> <stop> <stop> <stop> <stop> <stop> <stop> <stop> <stop> </s> </s> </s> </s> </s> </s> </s> </s> </s> </s> </s> </s> </s> </s> </s> </s> </s> </s> </s> </s> "
     ]
    }
   ],
   "source": [
    "for i in res[117].astype(int).asnumpy():\n",
    "    print(vocab.id2word(i), end=' ')"
   ]
  },
  {
   "cell_type": "code",
   "execution_count": 9,
   "metadata": {},
   "outputs": [],
   "source": [
    "import pickle\n",
    "pickle.dump(res, open('res.pkl','wb'))"
   ]
  },
  {
   "cell_type": "code",
   "execution_count": 17,
   "metadata": {},
   "outputs": [],
   "source": [
    "from models.vocab import Vocab\n",
    "vocab = Vocab(vocab_path)"
   ]
  },
  {
   "cell_type": "code",
   "execution_count": 6,
   "metadata": {},
   "outputs": [
    {
     "data": {
      "text/plain": [
       "((1, 4), (2,), (1, 2))"
      ]
     },
     "execution_count": 6,
     "metadata": {},
     "output_type": "execute_result"
    }
   ],
   "source": [
    "x = nd.array([[1,2,3,4]])\n",
    "y = nd.array([2,3])\n",
    "lda = nd.array([[3,2]])\n",
    "x.shape, y.shape, lda.shape\n",
    "# data = [[x,y, lda]]"
   ]
  },
  {
   "cell_type": "code",
   "execution_count": 7,
   "metadata": {},
   "outputs": [
    {
     "name": "stdout",
     "output_type": "stream",
     "text": [
      "loss= 12.207\n"
     ]
    }
   ],
   "source": [
    "headlines_path = '/home/xuyang/data/headline_lda'\n",
    "articles_path = '/home/xuyang/data/articles/'\n",
    "abstracts_path = '/home/xuyang/data/abstracts/'\n",
    "\n",
    "headlines_files = os.listdir('/home/xuyang/data/headline_lda')\n",
    "\n",
    "\n",
    "lda = nd.array([read_pkl(os.path.join(headlines_path,headlines_files[3]))])\n",
    "x = nd.array([read_pkl(os.path.join(articles_path, headlines_files[3][:-4]+'story'))])\n",
    "y = nd.array(read_pkl(os.path.join(abstracts_path, headlines_files[3][:-4]+'story')))\n",
    "data = [[x,y,lda]]\n",
    "# print(x.shape, y.shape, lda.shape)\n",
    "\n",
    "_ = model.train_one_step(data)"
   ]
  },
  {
   "cell_type": "code",
   "execution_count": 8,
   "metadata": {},
   "outputs": [
    {
     "name": "stderr",
     "output_type": "stream",
     "text": [
      "100%|██████████| 20/20 [00:57<00:00,  2.88s/it]\n"
     ]
    }
   ],
   "source": [
    "for i in trange(20):\n",
    "    _ = model.train_one_step(data, verbose=False)"
   ]
  },
  {
   "cell_type": "code",
   "execution_count": 20,
   "metadata": {},
   "outputs": [
    {
     "name": "stdout",
     "output_type": "stream",
     "text": [
      "loss= 3.554\n"
     ]
    },
    {
     "data": {
      "text/plain": [
       "\n",
       "[[-5.1213155 -5.0762978 -4.9919744 ... -5.2387757 -5.3434753 -5.194275 ]\n",
       " [-6.6616373 -6.6720834 -6.474985  ... -6.6886625 -6.7228885 -6.5693426]\n",
       " [-7.0490904 -7.076274  -6.884171  ... -7.0131345 -7.0088725 -6.904545 ]\n",
       " ...\n",
       " [-7.7998133 -7.845614  -7.933001  ... -7.772173  -7.8246827 -7.9367924]\n",
       " [-8.169714  -8.180588  -8.15641   ... -7.947149  -8.093786  -8.225883 ]\n",
       " [-8.170695  -8.180966  -8.157208  ... -7.947079  -8.094528  -8.22617  ]]\n",
       "<NDArray 70x200006 @cpu(0)>"
      ]
     },
     "execution_count": 20,
     "metadata": {},
     "output_type": "execute_result"
    }
   ],
   "source": [
    "model.train_one_step(data, verbose=True)"
   ]
  },
  {
   "cell_type": "code",
   "execution_count": null,
   "metadata": {},
   "outputs": [],
   "source": []
  },
  {
   "cell_type": "code",
   "execution_count": 7,
   "metadata": {},
   "outputs": [],
   "source": [
    "from mxnet.gluon import rnn"
   ]
  },
  {
   "cell_type": "code",
   "execution_count": 9,
   "metadata": {},
   "outputs": [],
   "source": [
    "lstm = rnn.LSTM(10)\n",
    "lstm.initialize(ctx=gpu())"
   ]
  },
  {
   "cell_type": "code",
   "execution_count": 10,
   "metadata": {},
   "outputs": [
    {
     "data": {
      "text/plain": [
       "LSTM(None -> 10, TNC)"
      ]
     },
     "execution_count": 10,
     "metadata": {},
     "output_type": "execute_result"
    }
   ],
   "source": [
    "lstm"
   ]
  },
  {
   "cell_type": "code",
   "execution_count": 13,
   "metadata": {},
   "outputs": [
    {
     "data": {
      "text/plain": [
       "[\n",
       " [[[0. 0. 0. 0. 0. 0. 0. 0. 0. 0.]\n",
       "   [0. 0. 0. 0. 0. 0. 0. 0. 0. 0.]]]\n",
       " <NDArray 1x2x10 @cpu(0)>, \n",
       " [[[0. 0. 0. 0. 0. 0. 0. 0. 0. 0.]\n",
       "   [0. 0. 0. 0. 0. 0. 0. 0. 0. 0.]]]\n",
       " <NDArray 1x2x10 @cpu(0)>]"
      ]
     },
     "execution_count": 13,
     "metadata": {},
     "output_type": "execute_result"
    }
   ],
   "source": [
    "lstm.begin_state(batch_size=2)"
   ]
  },
  {
   "cell_type": "code",
   "execution_count": null,
   "metadata": {},
   "outputs": [],
   "source": []
  }
 ],
 "metadata": {
  "kernelspec": {
   "display_name": "Python 3",
   "language": "python",
   "name": "python3"
  },
  "language_info": {
   "codemirror_mode": {
    "name": "ipython",
    "version": 3
   },
   "file_extension": ".py",
   "mimetype": "text/x-python",
   "name": "python",
   "nbconvert_exporter": "python",
   "pygments_lexer": "ipython3",
   "version": "3.7.4"
  }
 },
 "nbformat": 4,
 "nbformat_minor": 4
}
