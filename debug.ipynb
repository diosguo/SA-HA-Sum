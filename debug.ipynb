{
 "cells": [
  {
   "cell_type": "code",
   "execution_count": 1,
   "metadata": {},
   "outputs": [],
   "source": [
    "from models.models import Model\n",
    "from mxnet import gpu, nd\n",
    "import pickle\n",
    "import os\n",
    "from tqdm import trange"
   ]
  },
  {
   "cell_type": "code",
   "execution_count": 2,
   "metadata": {},
   "outputs": [],
   "source": [
    "def read_pkl(path):\n",
    "    return pickle.load(open(path,'rb'))"
   ]
  },
  {
   "cell_type": "markdown",
   "metadata": {},
   "source": [
    "## 参数配置"
   ]
  },
  {
   "cell_type": "code",
   "execution_count": 3,
   "metadata": {},
   "outputs": [],
   "source": [
    "model_param = {\n",
    "    'emb_size':200,\n",
    "    'hidden_size':200\n",
    "}\n",
    "vocab_path = 'data/vocab'\n",
    "source_path = 'data/cnn_articles'\n",
    "target_path = 'data/cnn_abstracts'\n",
    "lda_path = 'data/cnn_head_lda'"
   ]
  },
  {
   "cell_type": "code",
   "execution_count": 4,
   "metadata": {},
   "outputs": [],
   "source": [
    "# __init__(self, model_param, vocab_path, mode='train', vocab_tag_path=None, encoder_type='rnn', head_attention=False, deocder_cell='lstm', ctx=cpu(0))"
   ]
  },
  {
   "cell_type": "code",
   "execution_count": 5,
   "metadata": {},
   "outputs": [],
   "source": [
    "model = Model(model_param, vocab_path, head_attention=True, decoder_cell='dlstm',ctx=gpu(0))"
   ]
  },
  {
   "cell_type": "code",
   "execution_count": 6,
   "metadata": {},
   "outputs": [
    {
     "name": "stdout",
     "output_type": "stream",
     "text": [
      "Reading data...\n"
     ]
    },
    {
     "name": "stderr",
     "output_type": "stream",
     "text": [
      "100%|██████████| 1093/1093 [05:17<00:00,  3.76it/s]"
     ]
    },
    {
     "name": "stdout",
     "output_type": "stream",
     "text": [
      "epoch 0, loss:7.592683113722876\n"
     ]
    },
    {
     "name": "stderr",
     "output_type": "stream",
     "text": [
      "100%|██████████| 1093/1093 [05:20<00:00,  3.41it/s]\n",
      "100%|██████████| 1093/1093 [05:14<00:00,  3.79it/s]"
     ]
    },
    {
     "name": "stdout",
     "output_type": "stream",
     "text": [
      "epoch 1, loss:6.377493487512531\n"
     ]
    },
    {
     "name": "stderr",
     "output_type": "stream",
     "text": [
      "100%|██████████| 1093/1093 [05:17<00:00,  3.44it/s]\n",
      "100%|██████████| 1093/1093 [05:17<00:00,  3.77it/s]"
     ]
    },
    {
     "name": "stdout",
     "output_type": "stream",
     "text": [
      "epoch 2, loss:6.307713837549431\n"
     ]
    },
    {
     "name": "stderr",
     "output_type": "stream",
     "text": [
      "100%|██████████| 1093/1093 [05:20<00:00,  3.41it/s]\n",
      "100%|██████████| 1093/1093 [05:15<00:00,  3.74it/s]"
     ]
    },
    {
     "name": "stdout",
     "output_type": "stream",
     "text": [
      "epoch 3, loss:6.257932390298521\n"
     ]
    },
    {
     "name": "stderr",
     "output_type": "stream",
     "text": [
      "100%|██████████| 1093/1093 [05:18<00:00,  3.44it/s]\n",
      "100%|██████████| 1093/1093 [05:11<00:00,  3.75it/s]"
     ]
    },
    {
     "name": "stdout",
     "output_type": "stream",
     "text": [
      "epoch 4, loss:6.083597854638689\n"
     ]
    },
    {
     "name": "stderr",
     "output_type": "stream",
     "text": [
      "100%|██████████| 1093/1093 [05:14<00:00,  3.48it/s]\n",
      "100%|██████████| 1093/1093 [05:17<00:00,  3.77it/s]"
     ]
    },
    {
     "name": "stdout",
     "output_type": "stream",
     "text": [
      "epoch 5, loss:6.033981395225839\n"
     ]
    },
    {
     "name": "stderr",
     "output_type": "stream",
     "text": [
      "100%|██████████| 1093/1093 [05:20<00:00,  3.41it/s]\n",
      "100%|██████████| 1093/1093 [05:14<00:00,  3.74it/s]"
     ]
    },
    {
     "name": "stdout",
     "output_type": "stream",
     "text": [
      "epoch 6, loss:5.984242521287756\n"
     ]
    },
    {
     "name": "stderr",
     "output_type": "stream",
     "text": [
      "100%|██████████| 1093/1093 [05:17<00:00,  3.44it/s]\n",
      "100%|██████████| 1093/1093 [05:13<00:00,  3.82it/s]"
     ]
    },
    {
     "name": "stdout",
     "output_type": "stream",
     "text": [
      "epoch 7, loss:5.915780094055986\n"
     ]
    },
    {
     "name": "stderr",
     "output_type": "stream",
     "text": [
      "100%|██████████| 1093/1093 [05:16<00:00,  3.45it/s]\n",
      "100%|██████████| 1093/1093 [05:17<00:00,  3.74it/s]"
     ]
    },
    {
     "name": "stdout",
     "output_type": "stream",
     "text": [
      "epoch 8, loss:5.859098961019559\n"
     ]
    },
    {
     "name": "stderr",
     "output_type": "stream",
     "text": [
      "100%|██████████| 1093/1093 [05:20<00:00,  3.41it/s]\n",
      "100%|██████████| 1093/1093 [05:15<00:00,  3.76it/s]"
     ]
    },
    {
     "name": "stdout",
     "output_type": "stream",
     "text": [
      "epoch 9, loss:5.737670466535591\n"
     ]
    },
    {
     "name": "stderr",
     "output_type": "stream",
     "text": [
      "100%|██████████| 1093/1093 [05:18<00:00,  3.43it/s]\n",
      "100%|██████████| 1093/1093 [05:18<00:00,  3.74it/s]"
     ]
    },
    {
     "name": "stdout",
     "output_type": "stream",
     "text": [
      "epoch 10, loss:5.6889335400231476\n"
     ]
    },
    {
     "name": "stderr",
     "output_type": "stream",
     "text": [
      "100%|██████████| 1093/1093 [05:21<00:00,  3.40it/s]\n",
      "100%|██████████| 1093/1093 [05:14<00:00,  3.75it/s]"
     ]
    },
    {
     "name": "stdout",
     "output_type": "stream",
     "text": [
      "epoch 11, loss:5.696298141819779\n"
     ]
    },
    {
     "name": "stderr",
     "output_type": "stream",
     "text": [
      "100%|██████████| 1093/1093 [05:17<00:00,  3.44it/s]\n",
      "100%|██████████| 1093/1093 [05:16<00:00,  3.74it/s]"
     ]
    },
    {
     "name": "stdout",
     "output_type": "stream",
     "text": [
      "epoch 12, loss:5.662542362553421\n"
     ]
    },
    {
     "name": "stderr",
     "output_type": "stream",
     "text": [
      "100%|██████████| 1093/1093 [05:20<00:00,  3.41it/s]\n",
      "100%|██████████| 1093/1093 [05:18<00:00,  3.92it/s]"
     ]
    },
    {
     "name": "stdout",
     "output_type": "stream",
     "text": [
      "epoch 13, loss:5.624831402509014\n"
     ]
    },
    {
     "name": "stderr",
     "output_type": "stream",
     "text": [
      "100%|██████████| 1093/1093 [05:21<00:00,  3.40it/s]\n",
      "100%|██████████| 1093/1093 [05:14<00:00,  3.94it/s]"
     ]
    },
    {
     "name": "stdout",
     "output_type": "stream",
     "text": [
      "epoch 14, loss:5.527462965833519\n"
     ]
    },
    {
     "name": "stderr",
     "output_type": "stream",
     "text": [
      "100%|██████████| 1093/1093 [05:17<00:00,  3.44it/s]\n"
     ]
    }
   ],
   "source": [
    "model.train(source_path, target_path, lda_path, new_train=True, learning_rate=0.001)"
   ]
  },
  {
   "cell_type": "code",
   "execution_count": 11,
   "metadata": {},
   "outputs": [
    {
     "name": "stdout",
     "output_type": "stream",
     "text": [
      "Reading data...\n"
     ]
    },
    {
     "name": "stderr",
     "output_type": "stream",
     "text": [
      "100%|██████████| 1093/1093 [05:03<00:00,  3.98it/s]"
     ]
    },
    {
     "name": "stdout",
     "output_type": "stream",
     "text": [
      "epoch 0, loss:5.148680545164703\n"
     ]
    },
    {
     "name": "stderr",
     "output_type": "stream",
     "text": [
      "100%|██████████| 1093/1093 [05:06<00:00,  3.56it/s]\n",
      "100%|██████████| 1093/1093 [05:03<00:00,  4.14it/s]"
     ]
    },
    {
     "name": "stdout",
     "output_type": "stream",
     "text": [
      "epoch 1, loss:5.14942387954314\n"
     ]
    },
    {
     "name": "stderr",
     "output_type": "stream",
     "text": [
      "100%|██████████| 1093/1093 [05:06<00:00,  3.56it/s]\n",
      "100%|██████████| 1093/1093 [05:03<00:00,  3.92it/s]"
     ]
    },
    {
     "name": "stdout",
     "output_type": "stream",
     "text": [
      "epoch 2, loss:5.15441124415245\n"
     ]
    },
    {
     "name": "stderr",
     "output_type": "stream",
     "text": [
      "100%|██████████| 1093/1093 [05:06<00:00,  3.57it/s]\n",
      "100%|██████████| 1093/1093 [05:02<00:00,  4.14it/s]"
     ]
    },
    {
     "name": "stdout",
     "output_type": "stream",
     "text": [
      "epoch 3, loss:5.150812683471931\n"
     ]
    },
    {
     "name": "stderr",
     "output_type": "stream",
     "text": [
      "100%|██████████| 1093/1093 [05:05<00:00,  3.58it/s]\n",
      "100%|██████████| 1093/1093 [05:01<00:00,  3.88it/s]"
     ]
    },
    {
     "name": "stdout",
     "output_type": "stream",
     "text": [
      "epoch 4, loss:5.131177895241446\n"
     ]
    },
    {
     "name": "stderr",
     "output_type": "stream",
     "text": [
      "100%|██████████| 1093/1093 [05:04<00:00,  3.59it/s]\n",
      "100%|██████████| 1093/1093 [05:04<00:00,  3.90it/s]"
     ]
    },
    {
     "name": "stdout",
     "output_type": "stream",
     "text": [
      "epoch 5, loss:5.111098384377287\n"
     ]
    },
    {
     "name": "stderr",
     "output_type": "stream",
     "text": [
      "100%|██████████| 1093/1093 [05:07<00:00,  3.56it/s]\n",
      "100%|██████████| 1093/1093 [05:02<00:00,  4.05it/s]"
     ]
    },
    {
     "name": "stdout",
     "output_type": "stream",
     "text": [
      "epoch 6, loss:5.110052951191504\n"
     ]
    },
    {
     "name": "stderr",
     "output_type": "stream",
     "text": [
      "100%|██████████| 1093/1093 [05:05<00:00,  3.58it/s]\n",
      "100%|██████████| 1093/1093 [05:04<00:00,  4.13it/s]"
     ]
    },
    {
     "name": "stdout",
     "output_type": "stream",
     "text": [
      "epoch 7, loss:5.109336428323799\n"
     ]
    },
    {
     "name": "stderr",
     "output_type": "stream",
     "text": [
      "100%|██████████| 1093/1093 [05:07<00:00,  3.55it/s]\n",
      "100%|██████████| 1093/1093 [05:04<00:00,  4.12it/s]"
     ]
    },
    {
     "name": "stdout",
     "output_type": "stream",
     "text": [
      "epoch 8, loss:5.093577793074221\n"
     ]
    },
    {
     "name": "stderr",
     "output_type": "stream",
     "text": [
      "100%|██████████| 1093/1093 [05:07<00:00,  3.55it/s]\n",
      "100%|██████████| 1093/1093 [05:05<00:00,  3.92it/s]"
     ]
    },
    {
     "name": "stdout",
     "output_type": "stream",
     "text": [
      "epoch 9, loss:5.084523613695038\n"
     ]
    },
    {
     "name": "stderr",
     "output_type": "stream",
     "text": [
      "100%|██████████| 1093/1093 [05:08<00:00,  3.54it/s]\n",
      "100%|██████████| 1093/1093 [05:03<00:00,  3.91it/s]"
     ]
    },
    {
     "name": "stdout",
     "output_type": "stream",
     "text": [
      "epoch 10, loss:5.072022131355334\n"
     ]
    },
    {
     "name": "stderr",
     "output_type": "stream",
     "text": [
      "100%|██████████| 1093/1093 [05:06<00:00,  3.57it/s]\n",
      "100%|██████████| 1093/1093 [05:04<00:00,  3.90it/s]"
     ]
    },
    {
     "name": "stdout",
     "output_type": "stream",
     "text": [
      "epoch 11, loss:5.055014945341705\n"
     ]
    },
    {
     "name": "stderr",
     "output_type": "stream",
     "text": [
      "100%|██████████| 1093/1093 [05:07<00:00,  3.56it/s]\n",
      "100%|██████████| 1093/1093 [05:05<00:00,  4.09it/s]"
     ]
    },
    {
     "name": "stdout",
     "output_type": "stream",
     "text": [
      "epoch 12, loss:5.050085424177165\n"
     ]
    },
    {
     "name": "stderr",
     "output_type": "stream",
     "text": [
      "100%|██████████| 1093/1093 [05:08<00:00,  3.55it/s]\n",
      "100%|██████████| 1093/1093 [05:02<00:00,  3.88it/s]"
     ]
    },
    {
     "name": "stdout",
     "output_type": "stream",
     "text": [
      "epoch 13, loss:5.055267713534538\n"
     ]
    },
    {
     "name": "stderr",
     "output_type": "stream",
     "text": [
      "100%|██████████| 1093/1093 [05:05<00:00,  3.58it/s]\n",
      "100%|██████████| 1093/1093 [05:02<00:00,  4.31it/s]"
     ]
    },
    {
     "name": "stdout",
     "output_type": "stream",
     "text": [
      "epoch 14, loss:5.048443600330894\n"
     ]
    },
    {
     "name": "stderr",
     "output_type": "stream",
     "text": [
      "100%|██████████| 1093/1093 [05:05<00:00,  3.58it/s]\n",
      "100%|██████████| 1093/1093 [05:02<00:00,  3.90it/s]"
     ]
    },
    {
     "name": "stdout",
     "output_type": "stream",
     "text": [
      "epoch 15, loss:5.033319164609429\n"
     ]
    },
    {
     "name": "stderr",
     "output_type": "stream",
     "text": [
      "100%|██████████| 1093/1093 [05:05<00:00,  3.57it/s]\n",
      "100%|██████████| 1093/1093 [05:04<00:00,  4.09it/s]"
     ]
    },
    {
     "name": "stdout",
     "output_type": "stream",
     "text": [
      "epoch 16, loss:5.070625122599065\n"
     ]
    },
    {
     "name": "stderr",
     "output_type": "stream",
     "text": [
      "100%|██████████| 1093/1093 [05:07<00:00,  3.55it/s]\n",
      "100%|██████████| 1093/1093 [05:04<00:00,  4.13it/s]"
     ]
    },
    {
     "name": "stdout",
     "output_type": "stream",
     "text": [
      "epoch 17, loss:5.095238291006621\n"
     ]
    },
    {
     "name": "stderr",
     "output_type": "stream",
     "text": [
      "100%|██████████| 1093/1093 [05:07<00:00,  3.56it/s]\n",
      "100%|██████████| 1093/1093 [05:03<00:00,  3.92it/s]"
     ]
    },
    {
     "name": "stdout",
     "output_type": "stream",
     "text": [
      "epoch 18, loss:5.091224993464059\n"
     ]
    },
    {
     "name": "stderr",
     "output_type": "stream",
     "text": [
      "100%|██████████| 1093/1093 [05:06<00:00,  3.57it/s]\n",
      "100%|██████████| 1093/1093 [05:03<00:00,  3.91it/s]"
     ]
    },
    {
     "name": "stdout",
     "output_type": "stream",
     "text": [
      "epoch 19, loss:5.093547953451214\n"
     ]
    },
    {
     "name": "stderr",
     "output_type": "stream",
     "text": [
      "100%|██████████| 1093/1093 [05:06<00:00,  3.56it/s]\n",
      "100%|██████████| 1093/1093 [05:04<00:00,  4.14it/s]"
     ]
    },
    {
     "name": "stdout",
     "output_type": "stream",
     "text": [
      "epoch 20, loss:5.0781359406425\n"
     ]
    },
    {
     "name": "stderr",
     "output_type": "stream",
     "text": [
      "100%|██████████| 1093/1093 [05:07<00:00,  3.55it/s]\n",
      "100%|██████████| 1093/1093 [05:03<00:00,  3.88it/s]"
     ]
    },
    {
     "name": "stdout",
     "output_type": "stream",
     "text": [
      "epoch 21, loss:5.069639092503833\n"
     ]
    },
    {
     "name": "stderr",
     "output_type": "stream",
     "text": [
      "100%|██████████| 1093/1093 [05:06<00:00,  3.57it/s]\n",
      "100%|██████████| 1093/1093 [05:05<00:00,  3.90it/s]"
     ]
    },
    {
     "name": "stdout",
     "output_type": "stream",
     "text": [
      "epoch 22, loss:5.0770038079473805\n"
     ]
    },
    {
     "name": "stderr",
     "output_type": "stream",
     "text": [
      "100%|██████████| 1093/1093 [05:08<00:00,  3.54it/s]\n",
      "100%|██████████| 1093/1093 [05:02<00:00,  3.91it/s]"
     ]
    },
    {
     "name": "stdout",
     "output_type": "stream",
     "text": [
      "epoch 23, loss:5.069828978832556\n"
     ]
    },
    {
     "name": "stderr",
     "output_type": "stream",
     "text": [
      "100%|██████████| 1093/1093 [05:05<00:00,  3.58it/s]\n",
      "100%|██████████| 1093/1093 [05:03<00:00,  3.92it/s]"
     ]
    },
    {
     "name": "stdout",
     "output_type": "stream",
     "text": [
      "epoch 24, loss:5.046882759183236\n"
     ]
    },
    {
     "name": "stderr",
     "output_type": "stream",
     "text": [
      "100%|██████████| 1093/1093 [05:06<00:00,  3.56it/s]\n",
      "100%|██████████| 1093/1093 [05:01<00:00,  3.92it/s]"
     ]
    },
    {
     "name": "stdout",
     "output_type": "stream",
     "text": [
      "epoch 25, loss:5.052239851022356\n"
     ]
    },
    {
     "name": "stderr",
     "output_type": "stream",
     "text": [
      "100%|██████████| 1093/1093 [05:04<00:00,  3.59it/s]\n",
      "100%|██████████| 1093/1093 [05:01<00:00,  4.14it/s]"
     ]
    },
    {
     "name": "stdout",
     "output_type": "stream",
     "text": [
      "epoch 26, loss:5.032453074328744\n"
     ]
    },
    {
     "name": "stderr",
     "output_type": "stream",
     "text": [
      "100%|██████████| 1093/1093 [05:04<00:00,  3.58it/s]\n",
      "100%|██████████| 1093/1093 [05:02<00:00,  4.09it/s]"
     ]
    },
    {
     "name": "stdout",
     "output_type": "stream",
     "text": [
      "epoch 27, loss:5.028184664107634\n"
     ]
    },
    {
     "name": "stderr",
     "output_type": "stream",
     "text": [
      "100%|██████████| 1093/1093 [05:05<00:00,  3.57it/s]\n",
      "100%|██████████| 1093/1093 [05:02<00:00,  3.97it/s]"
     ]
    },
    {
     "name": "stdout",
     "output_type": "stream",
     "text": [
      "epoch 28, loss:5.0305536305915295\n"
     ]
    },
    {
     "name": "stderr",
     "output_type": "stream",
     "text": [
      "100%|██████████| 1093/1093 [05:05<00:00,  3.58it/s]\n",
      "100%|██████████| 1093/1093 [05:01<00:00,  3.87it/s]"
     ]
    },
    {
     "name": "stdout",
     "output_type": "stream",
     "text": [
      "epoch 29, loss:5.016372209498344\n"
     ]
    },
    {
     "name": "stderr",
     "output_type": "stream",
     "text": [
      "100%|██████████| 1093/1093 [05:05<00:00,  3.58it/s]\n",
      "100%|██████████| 1093/1093 [05:04<00:00,  3.93it/s]"
     ]
    },
    {
     "name": "stdout",
     "output_type": "stream",
     "text": [
      "epoch 30, loss:5.016116003322688\n"
     ]
    },
    {
     "name": "stderr",
     "output_type": "stream",
     "text": [
      "100%|██████████| 1093/1093 [05:07<00:00,  3.55it/s]\n",
      "100%|██████████| 1093/1093 [05:05<00:00,  4.10it/s]"
     ]
    },
    {
     "name": "stdout",
     "output_type": "stream",
     "text": [
      "epoch 31, loss:5.0263134756986965\n"
     ]
    },
    {
     "name": "stderr",
     "output_type": "stream",
     "text": [
      "100%|██████████| 1093/1093 [05:08<00:00,  3.55it/s]\n",
      "100%|██████████| 1093/1093 [05:02<00:00,  3.92it/s]"
     ]
    },
    {
     "name": "stdout",
     "output_type": "stream",
     "text": [
      "epoch 32, loss:5.005374546129553\n"
     ]
    },
    {
     "name": "stderr",
     "output_type": "stream",
     "text": [
      "100%|██████████| 1093/1093 [05:05<00:00,  3.58it/s]\n",
      "100%|██████████| 1093/1093 [05:01<00:00,  3.88it/s]"
     ]
    },
    {
     "name": "stdout",
     "output_type": "stream",
     "text": [
      "epoch 33, loss:5.005076748672583\n"
     ]
    },
    {
     "name": "stderr",
     "output_type": "stream",
     "text": [
      "100%|██████████| 1093/1093 [05:04<00:00,  3.59it/s]\n",
      "100%|██████████| 1093/1093 [05:03<00:00,  3.91it/s]"
     ]
    },
    {
     "name": "stdout",
     "output_type": "stream",
     "text": [
      "epoch 34, loss:4.9993356683334955\n"
     ]
    },
    {
     "name": "stderr",
     "output_type": "stream",
     "text": [
      "100%|██████████| 1093/1093 [05:06<00:00,  3.57it/s]\n",
      "100%|██████████| 1093/1093 [05:03<00:00,  3.94it/s]"
     ]
    },
    {
     "name": "stdout",
     "output_type": "stream",
     "text": [
      "epoch 35, loss:5.0524886350291425\n"
     ]
    },
    {
     "name": "stderr",
     "output_type": "stream",
     "text": [
      "100%|██████████| 1093/1093 [05:06<00:00,  3.57it/s]\n",
      "100%|██████████| 1093/1093 [05:04<00:00,  3.93it/s]"
     ]
    },
    {
     "name": "stdout",
     "output_type": "stream",
     "text": [
      "epoch 36, loss:5.058604293423624\n"
     ]
    },
    {
     "name": "stderr",
     "output_type": "stream",
     "text": [
      "100%|██████████| 1093/1093 [05:07<00:00,  3.56it/s]\n",
      "100%|██████████| 1093/1093 [05:03<00:00,  4.10it/s]"
     ]
    },
    {
     "name": "stdout",
     "output_type": "stream",
     "text": [
      "epoch 37, loss:5.0550421455641565\n"
     ]
    },
    {
     "name": "stderr",
     "output_type": "stream",
     "text": [
      "100%|██████████| 1093/1093 [05:06<00:00,  3.57it/s]\n",
      "100%|██████████| 1093/1093 [05:04<00:00,  4.11it/s]"
     ]
    },
    {
     "name": "stdout",
     "output_type": "stream",
     "text": [
      "epoch 38, loss:5.063389970529876\n"
     ]
    },
    {
     "name": "stderr",
     "output_type": "stream",
     "text": [
      "100%|██████████| 1093/1093 [05:07<00:00,  3.55it/s]\n",
      "100%|██████████| 1093/1093 [05:05<00:00,  3.92it/s]"
     ]
    },
    {
     "name": "stdout",
     "output_type": "stream",
     "text": [
      "epoch 39, loss:5.068275437045294\n"
     ]
    },
    {
     "name": "stderr",
     "output_type": "stream",
     "text": [
      "100%|██████████| 1093/1093 [05:08<00:00,  3.54it/s]\n",
      "100%|██████████| 1093/1093 [05:04<00:00,  4.15it/s]"
     ]
    },
    {
     "name": "stdout",
     "output_type": "stream",
     "text": [
      "epoch 40, loss:5.0618712984959355\n"
     ]
    },
    {
     "name": "stderr",
     "output_type": "stream",
     "text": [
      "100%|██████████| 1093/1093 [05:07<00:00,  3.55it/s]\n",
      "100%|██████████| 1093/1093 [05:04<00:00,  3.89it/s]"
     ]
    },
    {
     "name": "stdout",
     "output_type": "stream",
     "text": [
      "epoch 41, loss:5.054819073899558\n"
     ]
    },
    {
     "name": "stderr",
     "output_type": "stream",
     "text": [
      "100%|██████████| 1093/1093 [05:07<00:00,  3.56it/s]\n",
      "100%|██████████| 1093/1093 [05:01<00:00,  3.92it/s]"
     ]
    },
    {
     "name": "stdout",
     "output_type": "stream",
     "text": [
      "epoch 42, loss:5.064154845252565\n"
     ]
    },
    {
     "name": "stderr",
     "output_type": "stream",
     "text": [
      "100%|██████████| 1093/1093 [05:04<00:00,  3.59it/s]\n",
      "100%|██████████| 1093/1093 [05:06<00:00,  3.90it/s]"
     ]
    },
    {
     "name": "stdout",
     "output_type": "stream",
     "text": [
      "epoch 43, loss:5.059805162871309\n"
     ]
    },
    {
     "name": "stderr",
     "output_type": "stream",
     "text": [
      "100%|██████████| 1093/1093 [05:09<00:00,  3.53it/s]\n",
      "100%|██████████| 1093/1093 [05:02<00:00,  4.17it/s]"
     ]
    },
    {
     "name": "stdout",
     "output_type": "stream",
     "text": [
      "epoch 44, loss:5.054293988935465\n"
     ]
    },
    {
     "name": "stderr",
     "output_type": "stream",
     "text": [
      "100%|██████████| 1093/1093 [05:05<00:00,  3.58it/s]\n",
      "100%|██████████| 1093/1093 [05:04<00:00,  3.91it/s]"
     ]
    },
    {
     "name": "stdout",
     "output_type": "stream",
     "text": [
      "epoch 45, loss:5.083468420834904\n"
     ]
    },
    {
     "name": "stderr",
     "output_type": "stream",
     "text": [
      "100%|██████████| 1093/1093 [05:07<00:00,  3.55it/s]\n",
      "100%|██████████| 1093/1093 [05:05<00:00,  3.91it/s]"
     ]
    },
    {
     "name": "stdout",
     "output_type": "stream",
     "text": [
      "epoch 46, loss:5.07002904255894\n"
     ]
    },
    {
     "name": "stderr",
     "output_type": "stream",
     "text": [
      "100%|██████████| 1093/1093 [05:08<00:00,  3.54it/s]\n",
      "100%|██████████| 1093/1093 [05:02<00:00,  3.92it/s]"
     ]
    },
    {
     "name": "stdout",
     "output_type": "stream",
     "text": [
      "epoch 47, loss:5.056884568869686\n"
     ]
    },
    {
     "name": "stderr",
     "output_type": "stream",
     "text": [
      "100%|██████████| 1093/1093 [05:05<00:00,  3.58it/s]\n",
      "100%|██████████| 1093/1093 [05:03<00:00,  4.11it/s]"
     ]
    },
    {
     "name": "stdout",
     "output_type": "stream",
     "text": [
      "epoch 48, loss:5.059570978894107\n"
     ]
    },
    {
     "name": "stderr",
     "output_type": "stream",
     "text": [
      "100%|██████████| 1093/1093 [05:06<00:00,  3.56it/s]\n",
      "100%|██████████| 1093/1093 [05:04<00:00,  3.92it/s]"
     ]
    },
    {
     "name": "stdout",
     "output_type": "stream",
     "text": [
      "epoch 49, loss:5.064277480745796\n"
     ]
    },
    {
     "name": "stderr",
     "output_type": "stream",
     "text": [
      "100%|██████████| 1093/1093 [05:08<00:00,  3.55it/s]\n"
     ]
    }
   ],
   "source": [
    "model.train(source_path, target_path, lda_path, epoch_num=50, learning_rate=0.00001)"
   ]
  },
  {
   "cell_type": "code",
   "execution_count": 6,
   "metadata": {},
   "outputs": [
    {
     "data": {
      "text/plain": [
       "((1, 4), (2,), (1, 2))"
      ]
     },
     "execution_count": 6,
     "metadata": {},
     "output_type": "execute_result"
    }
   ],
   "source": [
    "x = nd.array([[1,2,3,4]])\n",
    "y = nd.array([2,3])\n",
    "lda = nd.array([[3,2]])\n",
    "x.shape, y.shape, lda.shape\n",
    "# data = [[x,y, lda]]"
   ]
  },
  {
   "cell_type": "code",
   "execution_count": 7,
   "metadata": {},
   "outputs": [
    {
     "name": "stdout",
     "output_type": "stream",
     "text": [
      "loss= 12.207\n"
     ]
    }
   ],
   "source": [
    "headlines_path = '/home/xuyang/data/headline_lda'\n",
    "articles_path = '/home/xuyang/data/articles/'\n",
    "abstracts_path = '/home/xuyang/data/abstracts/'\n",
    "\n",
    "headlines_files = os.listdir('/home/xuyang/data/headline_lda')\n",
    "\n",
    "\n",
    "lda = nd.array([read_pkl(os.path.join(headlines_path,headlines_files[3]))])\n",
    "x = nd.array([read_pkl(os.path.join(articles_path, headlines_files[3][:-4]+'story'))])\n",
    "y = nd.array(read_pkl(os.path.join(abstracts_path, headlines_files[3][:-4]+'story')))\n",
    "data = [[x,y,lda]]\n",
    "# print(x.shape, y.shape, lda.shape)\n",
    "\n",
    "_ = model.train_one_step(data)"
   ]
  },
  {
   "cell_type": "code",
   "execution_count": 8,
   "metadata": {},
   "outputs": [
    {
     "name": "stderr",
     "output_type": "stream",
     "text": [
      "100%|██████████| 20/20 [00:57<00:00,  2.88s/it]\n"
     ]
    }
   ],
   "source": [
    "for i in trange(20):\n",
    "    _ = model.train_one_step(data, verbose=False)"
   ]
  },
  {
   "cell_type": "code",
   "execution_count": 20,
   "metadata": {},
   "outputs": [
    {
     "name": "stdout",
     "output_type": "stream",
     "text": [
      "loss= 3.554\n"
     ]
    },
    {
     "data": {
      "text/plain": [
       "\n",
       "[[-5.1213155 -5.0762978 -4.9919744 ... -5.2387757 -5.3434753 -5.194275 ]\n",
       " [-6.6616373 -6.6720834 -6.474985  ... -6.6886625 -6.7228885 -6.5693426]\n",
       " [-7.0490904 -7.076274  -6.884171  ... -7.0131345 -7.0088725 -6.904545 ]\n",
       " ...\n",
       " [-7.7998133 -7.845614  -7.933001  ... -7.772173  -7.8246827 -7.9367924]\n",
       " [-8.169714  -8.180588  -8.15641   ... -7.947149  -8.093786  -8.225883 ]\n",
       " [-8.170695  -8.180966  -8.157208  ... -7.947079  -8.094528  -8.22617  ]]\n",
       "<NDArray 70x200006 @cpu(0)>"
      ]
     },
     "execution_count": 20,
     "metadata": {},
     "output_type": "execute_result"
    }
   ],
   "source": [
    "model.train_one_step(data, verbose=True)"
   ]
  },
  {
   "cell_type": "code",
   "execution_count": null,
   "metadata": {},
   "outputs": [],
   "source": []
  },
  {
   "cell_type": "code",
   "execution_count": 7,
   "metadata": {},
   "outputs": [],
   "source": [
    "from mxnet.gluon import rnn"
   ]
  },
  {
   "cell_type": "code",
   "execution_count": 9,
   "metadata": {},
   "outputs": [],
   "source": [
    "lstm = rnn.LSTM(10)\n",
    "lstm.initialize(ctx=gpu())"
   ]
  },
  {
   "cell_type": "code",
   "execution_count": 10,
   "metadata": {},
   "outputs": [
    {
     "data": {
      "text/plain": [
       "LSTM(None -> 10, TNC)"
      ]
     },
     "execution_count": 10,
     "metadata": {},
     "output_type": "execute_result"
    }
   ],
   "source": [
    "lstm"
   ]
  },
  {
   "cell_type": "code",
   "execution_count": 13,
   "metadata": {},
   "outputs": [
    {
     "data": {
      "text/plain": [
       "[\n",
       " [[[0. 0. 0. 0. 0. 0. 0. 0. 0. 0.]\n",
       "   [0. 0. 0. 0. 0. 0. 0. 0. 0. 0.]]]\n",
       " <NDArray 1x2x10 @cpu(0)>, \n",
       " [[[0. 0. 0. 0. 0. 0. 0. 0. 0. 0.]\n",
       "   [0. 0. 0. 0. 0. 0. 0. 0. 0. 0.]]]\n",
       " <NDArray 1x2x10 @cpu(0)>]"
      ]
     },
     "execution_count": 13,
     "metadata": {},
     "output_type": "execute_result"
    }
   ],
   "source": [
    "lstm.begin_state(batch_size=2)"
   ]
  },
  {
   "cell_type": "code",
   "execution_count": null,
   "metadata": {},
   "outputs": [],
   "source": []
  }
 ],
 "metadata": {
  "kernelspec": {
   "display_name": "Python 3",
   "language": "python",
   "name": "python3"
  },
  "language_info": {
   "codemirror_mode": {
    "name": "ipython",
    "version": 3
   },
   "file_extension": ".py",
   "mimetype": "text/x-python",
   "name": "python",
   "nbconvert_exporter": "python",
   "pygments_lexer": "ipython3",
   "version": "3.7.4"
  }
 },
 "nbformat": 4,
 "nbformat_minor": 4
}
