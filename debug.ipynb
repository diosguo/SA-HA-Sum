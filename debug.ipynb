{
 "cells": [
  {
   "cell_type": "code",
   "execution_count": 1,
   "metadata": {},
   "outputs": [],
   "source": [
    "from models.models import Model\n",
    "from mxnet import gpu, nd\n",
    "import pickle\n",
    "import os\n",
    "from tqdm import trange"
   ]
  },
  {
   "cell_type": "code",
   "execution_count": 2,
   "metadata": {},
   "outputs": [],
   "source": [
    "def read_pkl(path):\n",
    "    return pickle.load(open(path,'rb'))"
   ]
  },
  {
   "cell_type": "markdown",
   "metadata": {},
   "source": [
    "## 参数配置"
   ]
  },
  {
   "cell_type": "code",
   "execution_count": 3,
   "metadata": {},
   "outputs": [],
   "source": [
    "model_param = {\n",
    "    'emb_size':64,\n",
    "    'hidden_size':64\n",
    "}\n",
    "vocab_path = 'data/vocab'\n",
    "source_path = 'data/cnn_articles'\n",
    "target_path = 'data/cnn_abstracts'\n",
    "lda_path = 'data/cnn_head_lda'"
   ]
  },
  {
   "cell_type": "code",
   "execution_count": 4,
   "metadata": {},
   "outputs": [],
   "source": [
    "# __init__(self, model_param, vocab_path, mode='train', vocab_tag_path=None, encoder_type='rnn', head_attention=False, deocder_cell='lstm', ctx=cpu(0))"
   ]
  },
  {
   "cell_type": "code",
   "execution_count": 5,
   "metadata": {},
   "outputs": [],
   "source": [
    "model = Model(model_param, vocab_path, head_attention=True, decoder_cell='dlstm')"
   ]
  },
  {
   "cell_type": "code",
   "execution_count": null,
   "metadata": {},
   "outputs": [
    {
     "name": "stdout",
     "output_type": "stream",
     "text": [
      "Reading data...\n"
     ]
    },
    {
     "name": "stderr",
     "output_type": "stream",
     "text": [
      " 13%|█▎        | 146/1093 [03:50<28:39,  1.82s/it]"
     ]
    }
   ],
   "source": [
    "model.train(source_path, target_path, lda_path)"
   ]
  },
  {
   "cell_type": "code",
   "execution_count": 6,
   "metadata": {},
   "outputs": [
    {
     "data": {
      "text/plain": [
       "((1, 4), (2,), (1, 2))"
      ]
     },
     "execution_count": 6,
     "metadata": {},
     "output_type": "execute_result"
    }
   ],
   "source": [
    "x = nd.array([[1,2,3,4]])\n",
    "y = nd.array([2,3])\n",
    "lda = nd.array([[3,2]])\n",
    "x.shape, y.shape, lda.shape\n",
    "# data = [[x,y, lda]]"
   ]
  },
  {
   "cell_type": "code",
   "execution_count": 7,
   "metadata": {},
   "outputs": [
    {
     "name": "stdout",
     "output_type": "stream",
     "text": [
      "loss= 12.207\n"
     ]
    }
   ],
   "source": [
    "headlines_path = '/home/xuyang/data/headline_lda'\n",
    "articles_path = '/home/xuyang/data/articles/'\n",
    "abstracts_path = '/home/xuyang/data/abstracts/'\n",
    "\n",
    "headlines_files = os.listdir('/home/xuyang/data/headline_lda')\n",
    "\n",
    "\n",
    "lda = nd.array([read_pkl(os.path.join(headlines_path,headlines_files[3]))])\n",
    "x = nd.array([read_pkl(os.path.join(articles_path, headlines_files[3][:-4]+'story'))])\n",
    "y = nd.array(read_pkl(os.path.join(abstracts_path, headlines_files[3][:-4]+'story')))\n",
    "data = [[x,y,lda]]\n",
    "# print(x.shape, y.shape, lda.shape)\n",
    "\n",
    "_ = model.train_one_step(data)"
   ]
  },
  {
   "cell_type": "code",
   "execution_count": 8,
   "metadata": {},
   "outputs": [
    {
     "name": "stderr",
     "output_type": "stream",
     "text": [
      "100%|██████████| 20/20 [00:57<00:00,  2.88s/it]\n"
     ]
    }
   ],
   "source": [
    "for i in trange(20):\n",
    "    _ = model.train_one_step(data, verbose=False)"
   ]
  },
  {
   "cell_type": "code",
   "execution_count": 20,
   "metadata": {},
   "outputs": [
    {
     "name": "stdout",
     "output_type": "stream",
     "text": [
      "loss= 3.554\n"
     ]
    },
    {
     "data": {
      "text/plain": [
       "\n",
       "[[-5.1213155 -5.0762978 -4.9919744 ... -5.2387757 -5.3434753 -5.194275 ]\n",
       " [-6.6616373 -6.6720834 -6.474985  ... -6.6886625 -6.7228885 -6.5693426]\n",
       " [-7.0490904 -7.076274  -6.884171  ... -7.0131345 -7.0088725 -6.904545 ]\n",
       " ...\n",
       " [-7.7998133 -7.845614  -7.933001  ... -7.772173  -7.8246827 -7.9367924]\n",
       " [-8.169714  -8.180588  -8.15641   ... -7.947149  -8.093786  -8.225883 ]\n",
       " [-8.170695  -8.180966  -8.157208  ... -7.947079  -8.094528  -8.22617  ]]\n",
       "<NDArray 70x200006 @cpu(0)>"
      ]
     },
     "execution_count": 20,
     "metadata": {},
     "output_type": "execute_result"
    }
   ],
   "source": [
    "model.train_one_step(data, verbose=True)"
   ]
  },
  {
   "cell_type": "code",
   "execution_count": null,
   "metadata": {},
   "outputs": [],
   "source": []
  },
  {
   "cell_type": "code",
   "execution_count": 7,
   "metadata": {},
   "outputs": [
    {
     "name": "stdout",
     "output_type": "stream",
     "text": [
      "(1, 2) (1, 64) (1, 1) (1, 64) (1, 64) (1, 64)\n",
      "(1, 2) (1, 64) (1, 1) (1, 64) (1, 64) (1, 64)\n",
      "(1, 2) (1, 64) (1, 1) (1, 64) (1, 64) (1, 64)\n",
      "(1, 2) (1, 64) (1, 1) (1, 64) (1, 64) (1, 64)\n",
      "loss= 12.207\n"
     ]
    },
    {
     "data": {
      "text/plain": [
       "\n",
       "[[ 0.00200901 -0.00183754  0.00067616 ...  0.00059964  0.00025781\n",
       "  -0.00027749]\n",
       " [ 0.00160246 -0.00072083  0.00037844 ...  0.00015799  0.00027388\n",
       "   0.00023501]]\n",
       "<NDArray 2x200006 @cpu(0)>"
      ]
     },
     "execution_count": 7,
     "metadata": {},
     "output_type": "execute_result"
    }
   ],
   "source": [
    "model.train_one_step(data)"
   ]
  },
  {
   "cell_type": "code",
   "execution_count": 8,
   "metadata": {},
   "outputs": [
    {
     "name": "stdout",
     "output_type": "stream",
     "text": [
      "loss= 12.157\n",
      "loss= 12.021\n",
      "loss= 11.542\n",
      "loss= 10.209\n",
      "loss= 8.206\n",
      "loss= 6.247\n",
      "loss= 4.812\n",
      "loss= 3.569\n",
      "loss= 2.416\n",
      "loss= 1.533\n",
      "loss= 1.018\n",
      "loss= 0.810\n",
      "loss= 0.797\n",
      "loss= 0.750\n",
      "loss= 0.725\n",
      "loss= 0.707\n",
      "loss= 0.632\n",
      "loss= 0.680\n",
      "loss= 0.597\n",
      "loss= 0.633\n",
      "loss= 0.574\n",
      "loss= 0.583\n",
      "loss= 0.546\n",
      "loss= 0.540\n",
      "loss= 0.515\n",
      "loss= 0.502\n",
      "loss= 0.507\n",
      "loss= 0.472\n",
      "loss= 0.500\n",
      "loss= 0.438\n",
      "loss= 0.472\n",
      "loss= 0.420\n",
      "loss= 0.462\n",
      "loss= 0.387\n",
      "loss= 0.457\n",
      "loss= 0.358\n",
      "loss= 0.451\n",
      "loss= 0.359\n",
      "loss= 0.429\n",
      "loss= 0.337\n",
      "loss= 0.437\n",
      "loss= 0.317\n",
      "loss= 0.410\n",
      "loss= 0.299\n",
      "loss= 0.390\n",
      "loss= 0.275\n",
      "loss= 0.388\n",
      "loss= 0.274\n",
      "loss= 0.383\n",
      "loss= 0.246\n",
      "loss= 0.341\n",
      "loss= 0.292\n",
      "loss= 0.354\n",
      "loss= 0.276\n",
      "loss= 0.344\n",
      "loss= 0.216\n",
      "loss= 0.326\n",
      "loss= 0.198\n",
      "loss= 0.284\n",
      "loss= 0.164\n",
      "loss= 0.305\n",
      "loss= 0.274\n",
      "loss= 0.303\n",
      "loss= 0.127\n",
      "loss= 0.284\n",
      "loss= 0.098\n",
      "loss= 0.211\n",
      "loss= 0.297\n",
      "loss= 0.237\n",
      "loss= 0.062\n",
      "loss= 0.180\n",
      "loss= 0.268\n",
      "loss= 0.189\n",
      "loss= 0.039\n",
      "loss= 0.788\n",
      "loss= 0.096\n",
      "loss= 0.403\n",
      "loss= 0.090\n",
      "loss= 0.407\n",
      "loss= 0.080\n",
      "loss= 0.349\n",
      "loss= 0.076\n",
      "loss= 0.371\n",
      "loss= 0.029\n",
      "loss= 0.633\n",
      "loss= 0.027\n",
      "loss= 0.055\n",
      "loss= 0.022\n",
      "loss= 0.041\n",
      "loss= 0.020\n",
      "loss= 0.555\n",
      "loss= 0.019\n",
      "loss= 0.016\n",
      "loss= 0.017\n",
      "loss= 0.515\n",
      "loss= 0.018\n",
      "loss= 0.452\n",
      "loss= 0.015\n",
      "loss= 0.412\n",
      "loss= 0.014\n"
     ]
    }
   ],
   "source": [
    "for i in range(100):\n",
    "    model.train_one_step(data)"
   ]
  },
  {
   "cell_type": "code",
   "execution_count": 9,
   "metadata": {},
   "outputs": [
    {
     "name": "stdout",
     "output_type": "stream",
     "text": [
      "loss= 0.007\n"
     ]
    }
   ],
   "source": [
    "res = model.train_one_step(data)"
   ]
  },
  {
   "cell_type": "code",
   "execution_count": 10,
   "metadata": {},
   "outputs": [
    {
     "data": {
      "text/plain": [
       "\n",
       "[[ -9.174087   -9.205915    9.758705  ...  -9.221219   -9.2544985\n",
       "   -9.143579 ]\n",
       " [-10.748889  -10.858316    5.6424036 ... -10.734565  -10.840482\n",
       "  -10.795928 ]]\n",
       "<NDArray 2x200006 @cpu(0)>"
      ]
     },
     "execution_count": 10,
     "metadata": {},
     "output_type": "execute_result"
    }
   ],
   "source": [
    "res"
   ]
  },
  {
   "cell_type": "code",
   "execution_count": 12,
   "metadata": {},
   "outputs": [
    {
     "data": {
      "text/plain": [
       "\n",
       "[2. 3.]\n",
       "<NDArray 2 @cpu(0)>"
      ]
     },
     "execution_count": 12,
     "metadata": {},
     "output_type": "execute_result"
    }
   ],
   "source": [
    "nd.argmax(res,axis=-1)"
   ]
  },
  {
   "cell_type": "code",
   "execution_count": null,
   "metadata": {},
   "outputs": [],
   "source": []
  }
 ],
 "metadata": {
  "kernelspec": {
   "display_name": "Python 3",
   "language": "python",
   "name": "python3"
  },
  "language_info": {
   "codemirror_mode": {
    "name": "ipython",
    "version": 3
   },
   "file_extension": ".py",
   "mimetype": "text/x-python",
   "name": "python",
   "nbconvert_exporter": "python",
   "pygments_lexer": "ipython3",
   "version": "3.7.4"
  }
 },
 "nbformat": 4,
 "nbformat_minor": 4
}
